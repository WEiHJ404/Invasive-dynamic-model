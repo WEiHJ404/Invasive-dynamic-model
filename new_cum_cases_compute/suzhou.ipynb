{
 "cells": [
  {
   "cell_type": "code",
   "execution_count": 1,
   "metadata": {},
   "outputs": [],
   "source": [
    "import os\n",
    "import pandas as pd\n",
    "import openpyxl\n",
    "for i in range(4,21,2):\n",
    "    path = f'/Users/weihj/Desktop/工作/2022/0413/苏州/b/{i}'\n",
    "    allItems = os.listdir(path)\n",
    "    for item in allItems:\n",
    "        if item =='.DS_Store':\n",
    "            pass\n",
    "        else:\n",
    "            Path = os.path.join(path,item)\n",
    "            df = pd.read_excel(Path)\n",
    "            df['new_cases'] = df['Ip1']+df['Ip2']+0.31*1/3.66*df['E1']+0.31*1/3.66*df['E2']\n",
    "            df['cum_cases'] = df['new_cases'].cumsum()\n",
    "            df.to_excel(Path)\n"
   ]
  },
  {
   "cell_type": "code",
   "execution_count": 2,
   "metadata": {},
   "outputs": [],
   "source": [
    "import os\n",
    "import pandas as pd\n",
    "import openpyxl\n",
    "for i in range(4,21,2):\n",
    "    path = f'/Users/weihj/Desktop/工作/2022/0413/苏州/h/{i}'\n",
    "    allItems = os.listdir(path)\n",
    "    for item in allItems:\n",
    "        if item =='.DS_Store':\n",
    "            pass\n",
    "        else:\n",
    "            Path = os.path.join(path,item)\n",
    "            df = pd.read_excel(Path)\n",
    "            df['new_cases'] = df['Ip1']+df['Ip2']+0.31*1/3.66*df['E1']+0.31*1/3.66*df['E2']\n",
    "            df['cum_cases'] = df['new_cases'].cumsum()\n",
    "            df.to_excel(Path)\n"
   ]
  },
  {
   "cell_type": "code",
   "execution_count": 3,
   "metadata": {},
   "outputs": [],
   "source": [
    "import os\n",
    "import pandas as pd\n",
    "import openpyxl\n",
    "for i in range(4,21,2):\n",
    "    path = f'/Users/weihj/Desktop/工作/2022/0413/苏州/bh/{i}'\n",
    "    allItems = os.listdir(path)\n",
    "    for item in allItems:\n",
    "        if item =='.DS_Store':\n",
    "            pass\n",
    "        else:\n",
    "            Path = os.path.join(path,item)\n",
    "            df = pd.read_excel(Path)\n",
    "            df['new_cases'] = df['Ip1']+df['Ip2']+0.31*1/3.66*df['E1']+0.31*1/3.66*df['E2']\n",
    "            df['cum_cases'] = df['new_cases'].cumsum()\n",
    "            df.to_excel(Path)\n"
   ]
  },
  {
   "cell_type": "code",
   "execution_count": null,
   "metadata": {},
   "outputs": [],
   "source": []
  }
 ],
 "metadata": {
  "interpreter": {
   "hash": "31f2aee4e71d21fbe5cf8b01ff0e069b9275f58929596ceb00d14d90e3e16cd6"
  },
  "kernelspec": {
   "display_name": "Python 3.8.9 64-bit",
   "language": "python",
   "name": "python3"
  },
  "language_info": {
   "codemirror_mode": {
    "name": "ipython",
    "version": 3
   },
   "file_extension": ".py",
   "mimetype": "text/x-python",
   "name": "python",
   "nbconvert_exporter": "python",
   "pygments_lexer": "ipython3",
   "version": "3.8.9"
  },
  "orig_nbformat": 4
 },
 "nbformat": 4,
 "nbformat_minor": 2
}
